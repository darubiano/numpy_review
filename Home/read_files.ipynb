{
 "cells": [
  {
   "cell_type": "code",
   "execution_count": 2,
   "metadata": {},
   "outputs": [],
   "source": [
    "import pandas as pd\n",
    "import numpy as np"
   ]
  },
  {
   "cell_type": "code",
   "execution_count": 6,
   "metadata": {},
   "outputs": [
    {
     "name": "stdout",
     "output_type": "stream",
     "text": [
      "[1 2 3 4 5]\n",
      "[1 2 3 4 5]\n"
     ]
    }
   ],
   "source": [
    "a = np.array([1,2,3,4,5])\n",
    "print(a)\n",
    "np.save('a.npy', a)\n",
    "a = np.load('a.npy')\n",
    "print(a)"
   ]
  },
  {
   "cell_type": "code",
   "execution_count": 13,
   "metadata": {},
   "outputs": [
    {
     "name": "stdout",
     "output_type": "stream",
     "text": [
      "[[1 2 3]\n",
      " [4 5 6]]\n",
      "[[1. 2. 3.]\n",
      " [4. 5. 6.]]\n"
     ]
    }
   ],
   "source": [
    "csv = np.array([[1,2,3],[4,5,6]],dtype=np.uint8)\n",
    "print(csv)\n",
    "# Guardar archivo csv\n",
    "np.savetxt('file.csv', csv, delimiter=',', fmt='%.2f', header='x,y,z')\n",
    "csv = np.loadtxt('file.csv', delimiter=',')\n",
    "print(csv)"
   ]
  },
  {
   "cell_type": "code",
   "execution_count": 61,
   "metadata": {},
   "outputs": [
    {
     "name": "stdout",
     "output_type": "stream",
     "text": [
      "shape :(149, 5)\n",
      "size :745\n",
      "ndim :2\n"
     ]
    }
   ],
   "source": [
    "dataset = pd.read_csv('EstacionesTroncal.csv', encoding='utf-8').values\n",
    "print(f\"shape :{dataset.shape}\")\n",
    "print(f\"size :{dataset.size}\")\n",
    "print(f\"ndim :{dataset.ndim}\")"
   ]
  },
  {
   "cell_type": "code",
   "execution_count": 63,
   "metadata": {},
   "outputs": [
    {
     "name": "stdout",
     "output_type": "stream",
     "text": [
      "[61 98 103 149 64 62 58 18 65 74 73 63 101 96 37 48 25 46 35 50 147 20 34\n",
      " 45 36 38 148 47 49 24 150 21 33 22 40 32 42 29 31 44 28 41 30 43 151 9 6\n",
      " 17 7 13 19 12 16 26 27 10 11 152 23 145 60 59 15 146 89 14 107 72 95 71\n",
      " 92 83 82 80 90 87 88 93 79 77 97 84 78 81 91 94 153 127 128 133 131 134 1\n",
      " 129 5 130 3 2 132 86 85 4 135 154 118 137 119 136 114 115 111 112 124 139\n",
      " 120 116 113 117 155 156 99 100 68 106 57 144 54 53 108 56 109 52 55 70 69\n",
      " 66 67 157 125 123 105 140 138 122 104 143 102 142 158]\n",
      "[' Avenida 39 ' ' Avenida Jiménez ' 'Calle 22' ' Calle 26 ' 'Calle 57'\n",
      " 'Calle 45' 'Calle 34' 'Calle 76' 'Calle 63' 'Calle 72' 'Flores' 'Marly'\n",
      " 'Calle 19' 'Tercer Milenio' 'Calle 127' 'Mazurén' 'Virrey' 'Calle 142'\n",
      " 'Calle 106' 'Toberí\\xadn' 'Terminal' 'Héroes' 'Calle 100' 'Alcalá'\n",
      " 'Pepe Sierra' 'Prado' 'Calle 187' 'Calle 146' 'Calle 161' 'Calle 85'\n",
      " 'Portal Norte' 'San Martín' 'Puentelargo' 'Rionegro' 'Suba - Tv. 91'\n",
      " 'Suba - Calle 95' 'Suba – Avenida Boyacá' 'Humedal Córdoba'\n",
      " 'Suba - Calle 100' '21 Ángeles' 'Shaio' 'La Campiña' 'Niza - Calle 127'\n",
      " 'Gratamira' 'Portal de Suba' 'Minuto de Dios' 'Quirigua'\n",
      " 'Escuela Militar' 'Carrera 90' 'Carrera 53' 'Polo' 'Granja - Carrera 77'\n",
      " 'Carrera 47' 'Ferias' 'Avenida 68' 'Avenida Boyacá'\n",
      " 'Avenida Ciudad de Cali' 'Portal de la 80' 'Castellana'\n",
      " 'Guatoque – Veraguas' 'Campín-UAN' 'Universidad Nacional'\n",
      " 'NQS - Calle 75' 'Tygua - San José' 'Ricaurte' 'Avenida Chile' 'CAD'\n",
      " 'Simón Bolí\\xadvar' 'Paloquemao' 'Movistar Arena' 'Puente Aranda'\n",
      " 'Marsella' 'Mundo Aventura' 'Banderas' 'San Façon -  Carrera 22'\n",
      " 'CDS – Carrera 32' 'Ricaurte' 'Zona Industrial' 'Tv 86' 'Patio Bonito'\n",
      " 'De La Sabana' 'Pradera' 'Biblioteca Tintal' 'Mandalay'\n",
      " 'Américas – Carrera 53A' 'Carrera 43' 'Portal de las Américas' 'Perdomo'\n",
      " 'Madelena' 'NQS - Calle 38A Sur' 'Alquería' 'NQS - Calle 30 Sur'\n",
      " 'LA Despensa' 'Sevillana' 'San Mateo' 'Venecia' 'León XIII' 'Bosa'\n",
      " 'General Santander' 'Comuneros' 'Santa Isabel' 'Terreros' 'Sena'\n",
      " 'Portal del Sur' 'Quiroga' 'Hortúa' 'Olaya' 'Nariño' 'Parque'\n",
      " 'Biblioteca' 'Socorro' 'Molinos' 'Fucha' 'Hospital' 'Restrepo'\n",
      " 'Santa Lucí\\xada' 'Consuelo' 'Calle 40 Sur' 'Portal Tunal' 'Portal Usme'\n",
      " 'Avenida Jiménez' 'Museo del Oro' 'Avenida Rojas' 'Aguas'\n",
      " 'Avenida El Dorado' 'Universidades' 'Quinta Paredes' 'Gobernación'\n",
      " 'Concejo de Bogotá' 'Ciudad Universitaria' 'Centro Memoria' 'CAN'\n",
      " 'Recinto Ferial' 'Normandía' 'Modelia' 'Salitre – El Greco'\n",
      " 'El Tiempo – Maloka' 'Portal El Dorado' 'Ciudad Jardí\\xadn-UAN'\n",
      " 'Avenida 1 de Mayo' 'Museo Nacional' 'San Bernardo' 'Policarpa'\n",
      " 'Country Sur' 'San Diego' 'San Victorino' 'Las Nieves' 'Bicentenario'\n",
      " 'Portal 20 de Julio']\n",
      "['A ' 'A' 'A' ' A ' 'A' 'A' 'A' 'A' 'A' 'A' 'A' 'A' 'A' 'A' 'B' 'B' 'B'\n",
      " 'B' 'B' 'B' 'B' 'B' 'B' 'B' 'B' 'B' 'B' 'B' 'B' 'B' 'B' 'C' 'C' 'C' 'C'\n",
      " 'C' 'C' 'C' 'C' 'C' 'C' 'C' 'C' 'C' 'C' 'D' 'D' 'D' 'D' 'D' 'D' 'D' 'D'\n",
      " 'D' 'D' 'D' 'D' 'D' 'E' 'E' 'E' 'E' 'E' 'E' 'E' 'E' 'E' 'E' 'E' 'E' 'F'\n",
      " 'F' 'F' 'F' 'F' 'F' 'F' 'F' 'F' 'F' 'F' 'F' 'F' 'F' 'F' 'F' 'F' 'G' 'G'\n",
      " 'G' 'G' 'G' 'G' 'G' 'G' 'G' 'G' 'G' 'G' 'G' 'G' 'G' 'G' 'G' 'H' 'H' 'H'\n",
      " 'H' 'H' 'H' 'H' 'H' 'H' 'H' 'H' 'H' 'H' 'H' 'H' 'H' 'J' 'J' 'K' 'K' 'K'\n",
      " 'K' 'K' 'K' 'K' 'K' 'K' 'K' 'K' 'K' 'K' 'K' 'K' 'K' 'L' 'L' 'L' 'L' 'L'\n",
      " 'L' 'L' 'L' 'L' 'L' 'L']\n",
      "['POINT(-74.0687199370321 4.62675731172693) '\n",
      " 'POINT(-74.0804513956535 4.60278085683398)'\n",
      " 'POINT(-74.0747189260253 4.61158845362391)'\n",
      " 'POINT(-74.0721685541365 4.61665965875571)'\n",
      " 'POINT(-74.0658502679586 4.6428649275447)'\n",
      " 'POINT(-74.0679033082517 4.63128856557656)'\n",
      " 'POINT(-74.0697610952262 4.6214799300536)'\n",
      " 'POINT(-74.0612931980656 4.66288904224115)'\n",
      " 'POINT(-74.0648722424644 4.64835975084115)'\n",
      " 'POINT(-74.0620795635024 4.65823380846294)'\n",
      " 'POINT(-74.0630506575959 4.65487515843309)'\n",
      " 'POINT(-74.0668001645064 4.63741992396213)'\n",
      " 'POINT(-74.0768242815055 4.60785444393705)'\n",
      " 'POINT(-74.08384632225 4.59806399659337)'\n",
      " 'POINT(-74.0541134419034 4.7053370844309)'\n",
      " 'POINT(-74.0491037567528 4.73524080234435)'\n",
      " 'POINT(-74.0588166155908 4.67718568679209)'\n",
      " 'POINT(-74.0505034909672 4.72687858667558)'\n",
      " 'POINT(-74.0561443935219 4.69316877964111)'\n",
      " 'POINT(-74.0471574336205 4.74693838780241)'\n",
      " 'POINT(-74.0435843746965 4.7687426448522)'\n",
      " 'POINT(-74.0604092145035 4.66776010531003)'\n",
      " 'POINT(-74.0576907408756 4.68399718427627)'\n",
      " 'POINT(-74.0515275892557 4.72084994876866)'\n",
      " 'POINT(-74.055192960855 4.69879258179486)'\n",
      " 'POINT(-74.0526974463856 4.71384892859146)'\n",
      " 'POINT(-74.0443216651693 4.76431189797591)'\n",
      " 'POINT(-74.0496232515833 4.73213851624521)'\n",
      " 'POINT(-74.0479609991001 4.74202477020129)'\n",
      " 'POINT(-74.0596440070866 4.67229146163403)'\n",
      " 'POINT(-74.0460823218037 4.75451205804934)'\n",
      " 'POINT(-74.0668241845587 4.67693516887087)'\n",
      " 'POINT(-74.0668806517592 4.69277432766757)'\n",
      " 'POINT(-74.0643074671537 4.68111644732834)'\n",
      " 'POINT(-74.0851978205269 4.73786575472389)'\n",
      " 'POINT(-74.0629262274543 4.6840459055328)'\n",
      " 'POINT(-74.0747377277642 4.72139654174594)'\n",
      " 'POINT(-74.0710561397774 4.70609214194483)'\n",
      " 'POINT(-74.0652907010799 4.68933892902809)'\n",
      " 'POINT(-74.080413032201 4.73503772936773)'\n",
      " 'POINT(-74.0700386629708 4.69982280189249)'\n",
      " 'POINT(-74.0903293522644 4.74182530077083)'\n",
      " 'POINT(-74.0723172872997 4.71197779133581)'\n",
      " 'POINT(-74.0747599502877 4.72592805539052)'\n",
      " 'POINT(-74.0943098393906 4.74674558212497)'\n",
      " 'POINT(-74.0911294834846 4.69639765869437)'\n",
      " 'POINT(-74.1083119021821 4.70641709157231)'\n",
      " 'POINT(-74.0689900658279 4.67496822041371)'\n",
      " 'POINT(-74.1042029883096 4.70446437172244)'\n",
      " 'POINT(-74.077770145516 4.68225054226667)'\n",
      " 'POINT(-74.0645013020325 4.67032894636591)'\n",
      " 'POINT(-74.0956868516183 4.69889928228634)'\n",
      " 'POINT(-74.0740496820369 4.67823119415307)'\n",
      " 'POINT(-74.0843536817393 4.69052950000818)'\n",
      " 'POINT(-74.0802145656086 4.68535365520315)'\n",
      " 'POINT(-74.0874978076916 4.69424840006761)'\n",
      " 'POINT(-74.100690474039 4.70274050073818)'\n",
      " 'POINT(-74.1104134407206 4.70957518819608)'\n",
      " 'POINT(-74.0646892242 4.67539913294938)'\n",
      " 'POINT(-74.0947031694327 4.60394386713124)'\n",
      " 'POINT(-74.0787173075919 4.64529146345142)'\n",
      " 'POINT(-74.0793350601483 4.63697281052641)'\n",
      " 'POINT(-74.0707301627204 4.67085073795014)'\n",
      " 'POINT(-74.0887184690424 4.5996670099393)'\n",
      " 'POINT(-74.0936150625869 4.61196730564432)'\n",
      " 'POINT(-74.0745979705672 4.66624270723337)'\n",
      " 'POINT(-74.0841859015971 4.62336319585393)'\n",
      " 'POINT(-74.0775501705608 4.6578501472569)'\n",
      " 'POINT(-74.0890591802667 4.61748561260649)'\n",
      " 'POINT(-74.0782057197326 4.65188143244997)'\n",
      " 'POINT(-74.1042871712314 4.62529704706962)'\n",
      " 'POINT(-74.1286026471711 4.62948820570923)'\n",
      " 'POINT(-74.1352242117754 4.63013960927621)'\n",
      " 'POINT(-74.145546279293 4.63125597008127)'\n",
      " 'POINT(-74.0866644423991 4.60958136888557)'\n",
      " 'POINT(-74.093967565996 4.61608260230807)'\n",
      " 'POINT(-74.0902920551121 4.61280929719196)'\n",
      " 'POINT(-74.0987954626758 4.62036265127736)'\n",
      " 'POINT(-74.1529530774568 4.63505303522196)'\n",
      " 'POINT(-74.1646447820337 4.63310951012268)'\n",
      " 'POINT(-74.0819392851401 4.60540510158151)'\n",
      " 'POINT(-74.1196845386447 4.62860887669357)'\n",
      " 'POINT(-74.1593703966065 4.63779789007191)'\n",
      " 'POINT(-74.140760413887 4.63072668345923)'\n",
      " 'POINT(-74.1102595197866 4.62768973052713)'\n",
      " 'POINT(-74.101480395906 4.62275354449805)'\n",
      " 'POINT(-74.1729418986789 4.6290539996053)'\n",
      " 'POINT(-74.163821727604 4.59574104769829)'\n",
      " 'POINT(-74.1560128893332 4.59631478787517)'\n",
      " 'POINT(-74.1249246434623 4.59365568100008)'\n",
      " 'POINT(-74.1352654534301 4.59441518135819)'\n",
      " 'POINT(-74.117048303086 4.59496765439606)'\n",
      " 'POINT(-74.1876524312939 4.59479960492157)'\n",
      " 'POINT(-74.1484994584502 4.59518059878933)'\n",
      " 'POINT(-74.2057194237466 4.58580301952286)'\n",
      " 'POINT(-74.1416317895941 4.59554553296505)'\n",
      " 'POINT(-74.1936665200687 4.59190430526542)'\n",
      " 'POINT(-74.1815740860268 4.59679491083626)'\n",
      " 'POINT(-74.1282965183903 4.59347553933107)'\n",
      " 'POINT(-74.0999187349717 4.60409657238115)'\n",
      " 'POINT(-74.1021872361856 4.60199237440793)'\n",
      " 'POINT(-74.1994982122133 4.58895379383919)'\n",
      " 'POINT(-74.1097241984374 4.59779635695536)'\n",
      " 'POINT(-74.1693512821826 4.59672746647165)'\n",
      " 'POINT(-74.1149484857195 4.57666117001921)'\n",
      " 'POINT(-74.0903228035459 4.59069142922774)'\n",
      " 'POINT(-74.1070008909749 4.57902874026758)'\n",
      " 'POINT(-74.0944172814918 4.58576650707986)'\n",
      " 'POINT(-74.1351748376724 4.56837859372565)'\n",
      " 'POINT(-74.1301163919682 4.57036031047885)'\n",
      " 'POINT(-74.1252967579923 4.56412003744751)'\n",
      " 'POINT(-74.1217249656928 4.55680960758016)'\n",
      " 'POINT(-74.098790408754 4.58330647424741)'\n",
      " 'POINT(-74.0859404586706 4.59538405516924)'\n",
      " 'POINT(-74.1014573352544 4.58178479230393)'\n",
      " 'POINT(-74.1246928358982 4.5709053868195)'\n",
      " 'POINT(-74.1240467603593 4.56052104859799)'\n",
      " 'POINT(-74.1200657809563 4.57576219846351)'\n",
      " 'POINT(-74.1396019069708 4.57094713218268)'\n",
      " 'POINT(-74.1195083960855 4.53145695595922)'\n",
      " 'POINT(-74.0790075083445 4.60291228003785)'\n",
      " 'POINT(-74.0729812779403 4.60112562421641)'\n",
      " 'POINT(-74.1089073172305 4.66215139457955)'\n",
      " 'POINT(-74.0684164933156 4.6025498317366)'\n",
      " 'POINT(-74.0797757556603 4.63159992930465)'\n",
      " 'POINT(-74.0668927871003 4.60538074002786)'\n",
      " 'POINT(-74.0925263727345 4.63656155212235)'\n",
      " 'POINT(-74.0958880392076 4.64173996715707)'\n",
      " 'POINT(-74.0809368173853 4.62688759693071)'\n",
      " 'POINT(-74.0836794817455 4.63106212964313)'\n",
      " 'POINT(-74.077427555016 4.62187447931954)'\n",
      " 'POINT(-74.0984126824484 4.64571613290188)'\n",
      " 'POINT(-74.0891924758818 4.63406682909112)'\n",
      " 'POINT(-74.1135436293113 4.669418924354)'\n",
      " 'POINT(-74.116550600486 4.67411289641766)'\n",
      " 'POINT(-74.1011226571155 4.6499851731233)'\n",
      " 'POINT(-74.1049792611741 4.65596554715421)'\n",
      " 'POINT(-74.1206267689698 4.68042600308726)'\n",
      " 'POINT(-74.0900226494601 4.58194556040216)'\n",
      " 'POINT(-74.0936380684414 4.57695409256808)'\n",
      " 'POINT(-74.0692641975166 4.61509591489657)'\n",
      " 'POINT(-74.0842563564648 4.59026077846576)'\n",
      " 'POINT(-74.0869672312438 4.58615662134034)'\n",
      " 'POINT(-74.0985939714559 4.57135225343876)'\n",
      " 'POINT(-74.0717707801287 4.61033356631069)'\n",
      " 'POINT(-74.0773505613114 4.6010375927564)'\n",
      " 'POINT(-74.0743422076294 4.60600500692683)'\n",
      " 'POINT(-74.0821148491842 4.59358536379978)'\n",
      " 'POINT(-74.0972218595381 4.56547286508739)']\n",
      "['2021-07-11' '2021-07-11' '2021-07-11' '2021-07-11' '2021-07-11'\n",
      " '2021-07-11' '2021-07-11' '2021-07-11' '2021-07-11' '2021-07-11'\n",
      " '2021-07-11' '2021-07-11' '2021-07-11' '2021-07-11' '2021-07-11'\n",
      " '2021-07-11' '2021-07-11' '2021-07-11' '2021-07-11' '2021-07-11'\n",
      " '2021-07-11' '2021-07-11' '2021-07-11' '2021-07-11' '2021-07-11'\n",
      " '2021-07-11' '2021-07-11' '2021-07-11' '2021-07-11' '2021-07-11'\n",
      " '2021-07-11' '2021-07-11' '2021-07-11' '2021-07-11' '2021-07-11'\n",
      " '2021-07-11' '2021-07-11' '2021-07-11' '2021-07-11' '2021-07-11'\n",
      " '2021-07-11' '2021-07-11' '2021-07-11' '2021-07-11' '2021-07-11'\n",
      " '2021-07-11' '2021-07-11' '2021-07-11' '2021-07-11' '2021-07-11'\n",
      " '2021-07-11' '2021-07-11' '2021-07-11' '2021-07-11' '2021-07-11'\n",
      " '2021-07-11' '2021-07-11' '2021-07-11' '2021-07-11' '2021-07-11'\n",
      " '2021-07-11' '2021-07-11' '2021-07-11' '2021-07-11' '2021-07-11'\n",
      " '2021-07-11' '2021-07-11' '2021-07-11' '2021-07-11' '2021-07-11'\n",
      " '2021-07-11' '2021-07-11' '2021-07-11' '2021-07-11' '2021-07-11'\n",
      " '2021-07-11' '2021-07-11' '2021-07-11' '2021-07-11' '2021-07-11'\n",
      " '2021-07-11' '2021-07-11' '2021-07-11' '2021-07-11' '2021-07-11'\n",
      " '2021-07-11' '2021-07-11' '2021-07-11' '2021-07-11' '2021-07-11'\n",
      " '2021-07-11' '2021-07-11' '2021-07-11' '2021-07-11' '2021-07-11'\n",
      " '2021-07-11' '2021-07-11' '2021-07-11' '2021-07-11' '2021-07-11'\n",
      " '2021-07-11' '2021-07-11' '2021-07-11' '2021-07-11' '2021-07-11'\n",
      " '2021-07-11' '2021-07-11' '2021-07-11' '2021-07-11' '2021-07-11'\n",
      " '2021-07-11' '2021-07-11' '2021-07-11' '2021-07-11' '2021-07-11'\n",
      " '2021-07-11' '2021-07-11' '2021-07-11' '2021-07-11' '2021-07-11'\n",
      " '2021-07-11' '2021-07-11' '2021-07-11' '2021-07-11' '2021-07-11'\n",
      " '2021-07-11' '2021-07-11' '2021-07-11' '2021-07-11' '2021-07-11'\n",
      " '2021-07-11' '2021-07-11' '2021-07-11' '2021-07-11' '2021-07-11'\n",
      " '2021-07-11' '2021-07-11' '2021-07-11' '2021-07-11' '2021-07-11'\n",
      " '2021-07-11' '2021-07-11' '2021-07-11' '2021-07-11' '2021-07-11'\n",
      " '2021-07-11' '2021-07-11' '2021-07-11' '2021-07-11']\n"
     ]
    }
   ],
   "source": [
    "for i in range(dataset.shape[1]):\n",
    "    print(dataset[:,i])"
   ]
  },
  {
   "cell_type": "code",
   "execution_count": 46,
   "metadata": {},
   "outputs": [
    {
     "data": {
      "text/plain": [
       "'Avenida 39'"
      ]
     },
     "execution_count": 46,
     "metadata": {},
     "output_type": "execute_result"
    }
   ],
   "source": [
    "# strip \n",
    "strip_numpy = np.vectorize(lambda x: x.strip())\n",
    "dataset[:,1] = strip_numpy(dataset[:,1])\n",
    "dataset[0,1]"
   ]
  },
  {
   "cell_type": "code",
   "execution_count": 60,
   "metadata": {},
   "outputs": [
    {
     "data": {
      "text/plain": [
       "array(['Avenida 39', 'Avenida Jiménez', 'Calle 22', 'Calle 26',\n",
       "       'Calle 57', 'Calle 45', 'Calle 34', 'Calle 76', 'Calle 63',\n",
       "       'Calle 72', 'Flores', 'Marly', 'Calle 19', 'Tercer Milenio',\n",
       "       'Calle 127', 'Mazurén', 'Virrey', 'Calle 142', 'Calle 106',\n",
       "       'Toberí\\xadn', 'Terminal', 'Héroes', 'Calle 100', 'Alcalá',\n",
       "       'Pepe Sierra', 'Prado', 'Calle 187', 'Calle 146', 'Calle 161',\n",
       "       'Calle 85', 'Portal Norte', 'San Martín', 'Puentelargo',\n",
       "       'Rionegro', 'Suba - Tv. 91', 'Suba - Calle 95',\n",
       "       'Suba – Avenida Boyacá', 'Humedal Córdoba', 'Suba - Calle 100',\n",
       "       '21 Ángeles', 'Shaio', 'La Campiña', 'Niza - Calle 127',\n",
       "       'Gratamira', 'Portal de Suba', 'Minuto de Dios', 'Quirigua',\n",
       "       'Escuela Militar', 'Carrera 90', 'Carrera 53', 'Polo',\n",
       "       'Granja - Carrera 77', 'Carrera 47', 'Ferias', 'Avenida 68',\n",
       "       'Avenida Boyacá', 'Avenida Ciudad de Cali', 'Portal de la 80',\n",
       "       'Castellana', 'Guatoque – Veraguas', 'Campín-UAN',\n",
       "       'Universidad Nacional', 'NQS - Calle 75', 'Tygua - San José',\n",
       "       'Ricaurte', 'Avenida Chile', 'CAD', 'Simón Bolí\\xadvar',\n",
       "       'Paloquemao', 'Movistar Arena', 'Puente Aranda', 'Marsella',\n",
       "       'Mundo Aventura', 'Banderas', 'San Façon -  Carrera 22',\n",
       "       'CDS – Carrera 32', 'Ricaurte', 'Zona Industrial', 'Tv 86',\n",
       "       'Patio Bonito', 'De La Sabana', 'Pradera', 'Biblioteca Tintal',\n",
       "       'Mandalay', 'Américas – Carrera 53A', 'Carrera 43',\n",
       "       'Portal de las Américas', 'Perdomo', 'Madelena',\n",
       "       'NQS - Calle 38A Sur', 'Alquería', 'NQS - Calle 30 Sur',\n",
       "       'LA Despensa', 'Sevillana', 'San Mateo', 'Venecia', 'León XIII',\n",
       "       'Bosa', 'General Santander', 'Comuneros', 'Santa Isabel',\n",
       "       'Terreros', 'Sena', 'Portal del Sur', 'Quiroga', 'Hortúa', 'Olaya',\n",
       "       'Nariño', 'Parque', 'Biblioteca', 'Socorro', 'Molinos', 'Fucha',\n",
       "       'Hospital', 'Restrepo', 'Santa Lucí\\xada', 'Consuelo',\n",
       "       'Calle 40 Sur', 'Portal Tunal', 'Portal Usme', 'Avenida Jiménez',\n",
       "       'Museo del Oro', 'Avenida Rojas', 'Aguas', 'Avenida El Dorado',\n",
       "       'Universidades', 'Quinta Paredes', 'Gobernación',\n",
       "       'Concejo de Bogotá', 'Ciudad Universitaria', 'Centro Memoria',\n",
       "       'CAN', 'Recinto Ferial', 'Normandía', 'Modelia',\n",
       "       'Salitre – El Greco', 'El Tiempo – Maloka', 'Portal El Dorado',\n",
       "       'Ciudad Jardí\\xadn-UAN', 'Avenida 1 de Mayo', 'Museo Nacional',\n",
       "       'San Bernardo', 'Policarpa', 'Country Sur', 'San Diego',\n",
       "       'San Victorino', 'Las Nieves', 'Bicentenario',\n",
       "       'Portal 20 de Julio'], dtype='<U23')"
      ]
     },
     "execution_count": 60,
     "metadata": {},
     "output_type": "execute_result"
    }
   ],
   "source": [
    "# strip\n",
    "np.char.strip(dataset[:,1].astype(str))"
   ]
  },
  {
   "cell_type": "code",
   "execution_count": 71,
   "metadata": {},
   "outputs": [
    {
     "data": {
      "text/plain": [
       "datetime.date(2021, 7, 11)"
      ]
     },
     "execution_count": 71,
     "metadata": {},
     "output_type": "execute_result"
    }
   ],
   "source": [
    "dataset[:,-1] = dataset[:,-1].astype('datetime64')\n",
    "dataset[0,-1]"
   ]
  }
 ],
 "metadata": {
  "interpreter": {
   "hash": "091d7f3169c8ccc1d87feff241fcea6f302a0132ce2874b70e96d9a81a8f37ef"
  },
  "kernelspec": {
   "display_name": "Python 3.8.12 ('base')",
   "language": "python",
   "name": "python3"
  },
  "language_info": {
   "codemirror_mode": {
    "name": "ipython",
    "version": 3
   },
   "file_extension": ".py",
   "mimetype": "text/x-python",
   "name": "python",
   "nbconvert_exporter": "python",
   "pygments_lexer": "ipython3",
   "version": "3.8.12"
  },
  "orig_nbformat": 4
 },
 "nbformat": 4,
 "nbformat_minor": 2
}
