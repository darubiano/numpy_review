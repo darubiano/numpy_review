{
 "cells": [
  {
   "cell_type": "code",
   "execution_count": 13,
   "metadata": {},
   "outputs": [],
   "source": [
    "import numpy as np"
   ]
  },
  {
   "cell_type": "code",
   "execution_count": 47,
   "metadata": {},
   "outputs": [
    {
     "name": "stdout",
     "output_type": "stream",
     "text": [
      "[[0.70740992 0.01901622 0.78120585]\n",
      " [0.60156756 0.98767134 0.95441364]\n",
      " [0.39530131 0.42328243 0.95232257]]\n",
      "shape :(3, 3)\n",
      "size :9\n",
      "ndim :2\n"
     ]
    }
   ],
   "source": [
    "# Generar numeros aleatorios\n",
    "r = np.random.rand(3,3)\n",
    "print(r)\n",
    "print(f\"shape :{r.shape}\")\n",
    "print(f\"size :{r.size}\")\n",
    "print(f\"ndim :{r.ndim}\")"
   ]
  },
  {
   "cell_type": "markdown",
   "metadata": {},
   "source": [
    "## Basics"
   ]
  },
  {
   "cell_type": "code",
   "execution_count": 32,
   "metadata": {},
   "outputs": [
    {
     "name": "stdout",
     "output_type": "stream",
     "text": [
      "[1 2 3]\n",
      "(3,)\n"
     ]
    }
   ],
   "source": [
    "# Basic array\n",
    "a = np.array([1, 2, 3])\n",
    "print(a)\n",
    "print(a.shape)"
   ]
  },
  {
   "cell_type": "markdown",
   "metadata": {},
   "source": [
    "![title](img/basic_array.png)"
   ]
  },
  {
   "cell_type": "code",
   "execution_count": 33,
   "metadata": {},
   "outputs": [
    {
     "name": "stdout",
     "output_type": "stream",
     "text": [
      "Array zeros: [0. 0. 0. 0. 0. 0. 0. 0. 0. 0.]\n",
      "Array ones: [1. 1. 1. 1. 1. 1. 1. 1. 1. 1.]\n",
      "Array arange: [2 4 6 8]\n"
     ]
    }
   ],
   "source": [
    "#array de zeros y unos\n",
    "print(f\"Array zeros: {np.zeros(10)}\")\n",
    "print(f\"Array ones: {np.ones(10)}\")\n",
    "print(f\"Array arange: {np.arange(2, 9, 2)}\")"
   ]
  },
  {
   "cell_type": "code",
   "execution_count": 53,
   "metadata": {},
   "outputs": [
    {
     "data": {
      "text/plain": [
       "array([1., 2., 3., 4., 5., 6., 7., 8.])"
      ]
     },
     "execution_count": 53,
     "metadata": {},
     "output_type": "execute_result"
    }
   ],
   "source": [
    "# SORT function\n",
    "arr = np.array([2, 1, 5, 3, 7, 4, 6, 8], dtype=np.float64)\n",
    "arr.sort()\n",
    "arr"
   ]
  },
  {
   "cell_type": "code",
   "execution_count": 41,
   "metadata": {},
   "outputs": [
    {
     "name": "stdout",
     "output_type": "stream",
     "text": [
      "[1 2 3 4 5 6 7 8]\n",
      "[[1 2]\n",
      " [3 4]\n",
      " [5 6]]\n"
     ]
    }
   ],
   "source": [
    "# Concatenate\n",
    "a = np.array([1, 2, 3, 4])\n",
    "b = np.array([5, 6, 7, 8])\n",
    "#\n",
    "print(np.concatenate((a, b)))\n",
    "x = np.array([[1, 2], [3, 4]])\n",
    "y = np.array([[5, 6]])\n",
    "#\n",
    "print(np.concatenate((x, y), axis=0))"
   ]
  },
  {
   "cell_type": "code",
   "execution_count": 84,
   "metadata": {},
   "outputs": [
    {
     "name": "stdout",
     "output_type": "stream",
     "text": [
      "[ 0  1  2  3  4  5  6  7  8  9 10 11]\n",
      "[[ 0  1  2  3]\n",
      " [ 4  5  6  7]\n",
      " [ 8  9 10 11]]\n",
      "[[ 0  1  2  3  4  5  6  7  8  9 10 11]]\n"
     ]
    }
   ],
   "source": [
    "# Reshape array\n",
    "a = np.arange(12)\n",
    "print(a)\n",
    "print(a.reshape(3, 4))\n",
    "print(a[np.newaxis,:])"
   ]
  },
  {
   "cell_type": "code",
   "execution_count": 88,
   "metadata": {},
   "outputs": [
    {
     "name": "stdout",
     "output_type": "stream",
     "text": [
      "A: [[ 0  1  2  3  4  5  6  7  8  9 10 11]]\n",
      "(1, 12)\n",
      "B: [[ 0]\n",
      " [ 1]\n",
      " [ 2]\n",
      " [ 3]\n",
      " [ 4]\n",
      " [ 5]\n",
      " [ 6]\n",
      " [ 7]\n",
      " [ 8]\n",
      " [ 9]\n",
      " [10]\n",
      " [11]]\n",
      "(12, 1)\n"
     ]
    }
   ],
   "source": [
    "# Expand dimension\n",
    "a = np.expand_dims(np.arange(12), axis=0)\n",
    "print(f\"A: {a}\")\n",
    "print(a.shape)\n",
    "b = np.expand_dims(np.arange(12), axis=1)\n",
    "print(f\"B: {b}\")\n",
    "print(b.shape)"
   ]
  },
  {
   "cell_type": "markdown",
   "metadata": {},
   "source": [
    "## Indexing and Slicing"
   ]
  },
  {
   "cell_type": "markdown",
   "metadata": {},
   "source": [
    "![title](img/slicing.png)\n",
    "![title](img/slicing_matrix.png)"
   ]
  },
  {
   "cell_type": "code",
   "execution_count": 100,
   "metadata": {},
   "outputs": [
    {
     "name": "stdout",
     "output_type": "stream",
     "text": [
      "Index[1]: 2\n",
      " [1 2]\n",
      " [2 3]\n"
     ]
    }
   ],
   "source": [
    "data = np.array([1,2,3])\n",
    "#\n",
    "print(f\"Index[1]: {data[1]}\")\n",
    "print(f\" {data[0:2]}\")\n",
    "print(f\" {data[-2:]}\")"
   ]
  },
  {
   "cell_type": "code",
   "execution_count": 174,
   "metadata": {},
   "outputs": [
    {
     "name": "stdout",
     "output_type": "stream",
     "text": [
      "[[ 1  8  6 13]\n",
      " [ 8 14  5  7]\n",
      " [ 2 11  4  2]\n",
      " [11  8  1 14]]\n",
      "numeros mayores que 6 :[ 7  8  8  8 11 11 13 14 14]\n",
      "numeros pares :[ 8  6  8 14  2  4  2  8 14]\n",
      "numeros entre 6 y 10 :[8 6 8 7 8]\n"
     ]
    }
   ],
   "source": [
    "data = np.random.randint(low=1,high=16,size=(4, 4))\n",
    "print(data)\n",
    "#\n",
    "print(f\"numeros mayores que 6 :{np.sort(data[data>6])}\")\n",
    "#\n",
    "print(f\"numeros pares :{data[data%2==0]}\")\n",
    "#\n",
    "print(f\"numeros entre 6 y 10 :{data[(data>=6) & (data<=10)]}\")"
   ]
  },
  {
   "cell_type": "code",
   "execution_count": 181,
   "metadata": {},
   "outputs": [
    {
     "data": {
      "text/plain": [
       "[(1, 5, 9, 13), (2, 6, 10, 14), (3, 7, 11, 15), (4, 8, 12, 16)]"
      ]
     },
     "execution_count": 181,
     "metadata": {},
     "output_type": "execute_result"
    }
   ],
   "source": [
    "test = np.array([1,2,3,4,5,6,7,8,9,10,11,12,13,14,15,16]).reshape(4,4)\n",
    "list(zip(*test))"
   ]
  },
  {
   "cell_type": "markdown",
   "metadata": {},
   "source": [
    "## Operaciones"
   ]
  },
  {
   "cell_type": "code",
   "execution_count": 191,
   "metadata": {},
   "outputs": [
    {
     "name": "stdout",
     "output_type": "stream",
     "text": [
      "Operacion suma:[[ 2 16 12 26]\n",
      " [16 28 10 14]\n",
      " [ 4 22  8  4]\n",
      " [22 16  2 28]]\n",
      "Operacion resta:[[0 0 0 0]\n",
      " [0 0 0 0]\n",
      " [0 0 0 0]\n",
      " [0 0 0 0]]\n",
      "Operacion multiplicacion:[[  1  64  36 169]\n",
      " [ 64 196  25  49]\n",
      " [  4 121  16   4]\n",
      " [121  64   1 196]]\n",
      "Operacion multiplicacion escalar:[[ 1.6 12.8  9.6 20.8]\n",
      " [12.8 22.4  8.  11.2]\n",
      " [ 3.2 17.6  6.4  3.2]\n",
      " [17.6 12.8  1.6 22.4]]\n",
      "Operacion division:[[1. 1. 1. 1.]\n",
      " [1. 1. 1. 1.]\n",
      " [1. 1. 1. 1.]\n",
      " [1. 1. 1. 1.]]\n"
     ]
    }
   ],
   "source": [
    "# Operaciones\n",
    "print(f\"Operacion suma:{data+data}\")\n",
    "print(f\"Operacion resta:{data-data}\")\n",
    "print(f\"Operacion multiplicacion:{data*data}\")\n",
    "print(f\"Operacion multiplicacion escalar:{data*1.6}\")\n",
    "print(f\"Operacion division:{data/data}\")"
   ]
  },
  {
   "cell_type": "code",
   "execution_count": 234,
   "metadata": {},
   "outputs": [
    {
     "name": "stdout",
     "output_type": "stream",
     "text": [
      "[[1 3]\n",
      " [2 2]]\n",
      "Function sum: 8\n",
      "Function columns sum: [3 5]\n",
      "Function rows sum: [4 4]\n",
      "Function amin: 1\n",
      "Function columns amin: [1 2]\n",
      "Function rows amin: [1 2]\n",
      "Function amax: 3\n",
      "Function columns amax: [2 3]\n"
     ]
    }
   ],
   "source": [
    "def operation(array,function,axis=None):\n",
    "    if axis==0:\n",
    "        return f\"Function columns {function.__name__}: {function(array,axis=axis)}\"\n",
    "    elif axis==1:\n",
    "        return f\"Function rows {function.__name__}: {function(array,axis=axis)}\"\n",
    "    else:\n",
    "        return f\"Function {function.__name__}: {function(array,axis=axis)}\"\n",
    "\n",
    "a = np.array([[1, 3], [2, 2]])\n",
    "print(a)\n",
    "# sumar\n",
    "print(operation(a,np.sum))\n",
    "print(operation(a,np.sum,axis=0))\n",
    "print(operation(a,np.sum,axis=1))\n",
    "#\n",
    "print(operation(a,np.min))\n",
    "print(operation(a,np.min,axis=0))\n",
    "print(operation(a,np.min,axis=1))\n",
    "#\n",
    "print(operation(a,np.max))\n",
    "print(operation(a,np.max,axis=0))"
   ]
  },
  {
   "cell_type": "code",
   "execution_count": 237,
   "metadata": {},
   "outputs": [
    {
     "name": "stdout",
     "output_type": "stream",
     "text": [
      "Function unique: [1 2 3]\n",
      "Function columns unique: [[1 3]\n",
      " [2 2]]\n",
      "Function rows unique: [[1 3]\n",
      " [2 2]]\n",
      "(array([1, 2, 3]), array([0, 2, 1], dtype=int64))\n",
      "(array([1, 2, 3]), array([1, 2, 1], dtype=int64))\n"
     ]
    }
   ],
   "source": [
    "# Valores unicos\n",
    "print(operation(a,np.unique))\n",
    "print(operation(a,np.unique,axis=0))\n",
    "print(operation(a,np.unique,axis=1))\n",
    "#\n",
    "print(np.unique(a, return_index=True))\n",
    "print(np.unique(a, return_counts=True))"
   ]
  },
  {
   "cell_type": "code",
   "execution_count": 251,
   "metadata": {},
   "outputs": [
    {
     "name": "stdout",
     "output_type": "stream",
     "text": [
      "[[1 2]\n",
      " [3 2]]\n",
      "Function flip: [3 2 1]\n",
      "Function columns flip: [[2 2]\n",
      " [1 3]]\n",
      "Function rows flip: [[3 1]\n",
      " [2 2]]\n",
      "[1 3 2 2]\n"
     ]
    }
   ],
   "source": [
    "# Transpuesta\n",
    "print(a.T)\n",
    "print(operation([1,2,3],np.flip))\n",
    "print(operation(a,np.flip,axis=0))\n",
    "print(operation(a,np.flip,axis=1))\n",
    "print(a.flatten())"
   ]
  }
 ],
 "metadata": {
  "interpreter": {
   "hash": "091d7f3169c8ccc1d87feff241fcea6f302a0132ce2874b70e96d9a81a8f37ef"
  },
  "kernelspec": {
   "display_name": "Python 3.8.12 ('base')",
   "language": "python",
   "name": "python3"
  },
  "language_info": {
   "codemirror_mode": {
    "name": "ipython",
    "version": 3
   },
   "file_extension": ".py",
   "mimetype": "text/x-python",
   "name": "python",
   "nbconvert_exporter": "python",
   "pygments_lexer": "ipython3",
   "version": "3.8.12"
  },
  "orig_nbformat": 4
 },
 "nbformat": 4,
 "nbformat_minor": 2
}
